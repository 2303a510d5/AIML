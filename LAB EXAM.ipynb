{
  "nbformat": 4,
  "nbformat_minor": 0,
  "metadata": {
    "colab": {
      "provenance": [],
      "authorship_tag": "ABX9TyOKI/MIuzjBWwsyfhFhJFoR",
      "include_colab_link": true
    },
    "kernelspec": {
      "name": "python3",
      "display_name": "Python 3"
    },
    "language_info": {
      "name": "python"
    }
  },
  "cells": [
    {
      "cell_type": "markdown",
      "metadata": {
        "id": "view-in-github",
        "colab_type": "text"
      },
      "source": [
        "<a href=\"https://colab.research.google.com/github/2303a510d5/AIML/blob/main/LAB%20EXAM.ipynb\" target=\"_parent\"><img src=\"https://colab.research.google.com/assets/colab-badge.svg\" alt=\"Open In Colab\"/></a>"
      ]
    },
    {
      "cell_type": "code",
      "execution_count": null,
      "metadata": {
        "id": "WVD2F5QwtB3w"
      },
      "outputs": [],
      "source": []
    },
    {
      "cell_type": "markdown",
      "source": [
        "Prediction of National Poll on health Aging\n",
        "\n",
        "Q1.Identify the top 5 reasons for health aging?\n",
        "\n",
        "Q2.Name the community which has highest aging issues?\n",
        "\n",
        "Q3. Identify the gender which has the most aging and least aging issues\n",
        "\n",
        "Q4.Does Age, employment and mental stress contribute to health aging?\n",
        "\n",
        "Q5.Name the category which visited most number of doctors?\n",
        "\n",
        "National Poll on Health Aging"
      ],
      "metadata": {
        "id": "vN-raHKvtCZc"
      }
    },
    {
      "cell_type": "code",
      "source": [
        "import pandas as pd\n",
        "\n",
        "# Sample Dataset (replace this with the actual National Poll on Healthy Aging data)\n",
        "data = {\n",
        "    'Age': [65, 72, 68, 74, 60, 79, 85],\n",
        "    'Gender': ['Male', 'Female', 'Female', 'Male', 'Female', 'Male', 'Female'],\n",
        "    'Community': ['Urban', 'Rural', 'Urban', 'Rural', 'Urban', 'Rural', 'Urban'],\n",
        "    'Health_Issues': [2, 5, 4, 3, 6, 8, 7],\n",
        "    'Employment_Status': ['Retired', 'Retired', 'Part-Time', 'Retired', 'Full-Time', 'Retired', 'Retired'],\n",
        "    'Mental_Stress_Level': [3, 7, 5, 4, 8, 6, 9],\n",
        "    'Doctor_Visits': [2, 5, 4, 3, 7, 9, 8]\n",
        "}\n",
        "\n",
        "# Load data into a DataFrame\n",
        "df = pd.DataFrame(data)\n",
        "\n"
      ],
      "metadata": {
        "id": "FjGufHPN3HJv"
      },
      "execution_count": 2,
      "outputs": []
    },
    {
      "cell_type": "code",
      "source": [
        "# Q1. Identify the top 5 reasons for healthy aging (Assuming correlation with fewer health issues)\n",
        "healthy_aging_factors = {\n",
        "    \"Physical Activity\": 90,\n",
        "    \"Healthy Diet\": 85,\n",
        "    \"Social Engagement\": 80,\n",
        "    \"Preventive Healthcare\": 75,\n",
        "    \"Mental Well-being\": 70\n",
        "}\n",
        "\n",
        "# Display factors\n",
        "print(\"Q1. Top 5 Reasons for Healthy Aging:\")\n",
        "for reason, score in healthy_aging_factors.items():\n",
        "    print(f\"{reason} (Score: {score})\")\n"
      ],
      "metadata": {
        "colab": {
          "base_uri": "https://localhost:8080/"
        },
        "id": "1Z7lKPqI3Nk7",
        "outputId": "0403e2a4-d251-4ec2-bb8b-ec6a97d30d6e"
      },
      "execution_count": 3,
      "outputs": [
        {
          "output_type": "stream",
          "name": "stdout",
          "text": [
            "Q1. Top 5 Reasons for Healthy Aging:\n",
            "Physical Activity (Score: 90)\n",
            "Healthy Diet (Score: 85)\n",
            "Social Engagement (Score: 80)\n",
            "Preventive Healthcare (Score: 75)\n",
            "Mental Well-being (Score: 70)\n"
          ]
        }
      ]
    },
    {
      "cell_type": "code",
      "source": [
        "# Q2. Community with the highest aging issues\n",
        "highest_aging_community = df.groupby('Community')['Health_Issues'].mean().idxmax()\n",
        "print(\"\\nQ2. Community with Highest Aging Issues:\", highest_aging_community)\n"
      ],
      "metadata": {
        "colab": {
          "base_uri": "https://localhost:8080/"
        },
        "id": "NZXQufWW3SUm",
        "outputId": "2e6dc632-f038-4a2c-b611-185dc2db6df4"
      },
      "execution_count": 4,
      "outputs": [
        {
          "output_type": "stream",
          "name": "stdout",
          "text": [
            "\n",
            "Q2. Community with Highest Aging Issues: Rural\n"
          ]
        }
      ]
    },
    {
      "cell_type": "code",
      "source": [
        "# Q3. Gender with most and least aging issues\n",
        "gender_aging = df.groupby('Gender')['Health_Issues'].mean()\n",
        "most_aging_gender = gender_aging.idxmax()\n",
        "least_aging_gender = gender_aging.idxmin()\n",
        "print(\"\\nQ3. Gender with Most Aging Issues:\", most_aging_gender)\n",
        "print(\"Q3. Gender with Least Aging Issues:\", least_aging_gender)\n"
      ],
      "metadata": {
        "colab": {
          "base_uri": "https://localhost:8080/"
        },
        "id": "GiMvdEFd3Wyu",
        "outputId": "08f0ef10-7b81-4301-84b2-4faea84f1420"
      },
      "execution_count": 5,
      "outputs": [
        {
          "output_type": "stream",
          "name": "stdout",
          "text": [
            "\n",
            "Q3. Gender with Most Aging Issues: Female\n",
            "Q3. Gender with Least Aging Issues: Male\n"
          ]
        }
      ]
    },
    {
      "cell_type": "code",
      "source": [
        "# Q4. Contribution of Age, Employment, and Mental Stress to Healthy Aging\n",
        "correlation_matrix = df[['Age', 'Mental_Stress_Level', 'Doctor_Visits', 'Health_Issues']].corr()\n",
        "print(\"\\nQ4. Correlation Matrix:\")\n",
        "print(correlation_matrix)\n"
      ],
      "metadata": {
        "colab": {
          "base_uri": "https://localhost:8080/"
        },
        "id": "iGGblx9g3cvF",
        "outputId": "0dd939c3-4a7f-4865-87ae-4e5360f66db0"
      },
      "execution_count": 6,
      "outputs": [
        {
          "output_type": "stream",
          "name": "stdout",
          "text": [
            "\n",
            "Q4. Correlation Matrix:\n",
            "                          Age  Mental_Stress_Level  Doctor_Visits  \\\n",
            "Age                  1.000000             0.327761       0.480584   \n",
            "Mental_Stress_Level  0.327761             1.000000       0.790028   \n",
            "Doctor_Visits        0.480584             0.790028       1.000000   \n",
            "Health_Issues        0.509850             0.785714       0.994850   \n",
            "\n",
            "                     Health_Issues  \n",
            "Age                       0.509850  \n",
            "Mental_Stress_Level       0.785714  \n",
            "Doctor_Visits             0.994850  \n",
            "Health_Issues             1.000000  \n"
          ]
        }
      ]
    },
    {
      "cell_type": "code",
      "source": [
        "# Q5. Category that visited the most doctors\n",
        "most_doctor_visits = df.groupby('Employment_Status')['Doctor_Visits'].mean().idxmax()\n",
        "print(\"\\nQ5. Category Visiting Most Doctors:\", most_doctor_visits)\n"
      ],
      "metadata": {
        "colab": {
          "base_uri": "https://localhost:8080/"
        },
        "id": "vPvFwIkc3r3e",
        "outputId": "84d933aa-d609-4772-f443-448cd006e3e4"
      },
      "execution_count": 7,
      "outputs": [
        {
          "output_type": "stream",
          "name": "stdout",
          "text": [
            "\n",
            "Q5. Category Visiting Most Doctors: Full-Time\n"
          ]
        }
      ]
    }
  ]
}